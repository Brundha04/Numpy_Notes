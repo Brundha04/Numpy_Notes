{
  "nbformat": 4,
  "nbformat_minor": 0,
  "metadata": {
    "colab": {
      "provenance": [],
      "authorship_tag": "ABX9TyPa1D6ZL9FjMQtsMo0ZyKcV",
      "include_colab_link": true
    },
    "kernelspec": {
      "name": "python3",
      "display_name": "Python 3"
    },
    "language_info": {
      "name": "python"
    }
  },
  "cells": [
    {
      "cell_type": "markdown",
      "metadata": {
        "id": "view-in-github",
        "colab_type": "text"
      },
      "source": [
        "<a href=\"https://colab.research.google.com/github/Brundha04/Numpy_Notes/blob/main/Numpy.ipynb\" target=\"_parent\"><img src=\"https://colab.research.google.com/assets/colab-badge.svg\" alt=\"Open In Colab\"/></a>"
      ]
    },
    {
      "cell_type": "markdown",
      "source": [
        "**Numpy basics 03-01-2025**"
      ],
      "metadata": {
        "id": "e3lMq2SOA8lp"
      }
    },
    {
      "cell_type": "code",
      "execution_count": null,
      "metadata": {
        "id": "bCHi32zuALMM"
      },
      "outputs": [],
      "source": [
        "#What is Numpy-----> Num +py------>  diff b/w numpy vs pyspark\n",
        "#core library for scientific computing in python\n",
        "#the central object in Numpy is \"Numpy Arrays\"\n",
        "#What is Numpy Arrays?\n",
        "'''high performance ,multi-dimensional data\n",
        "structure object which is designed specifically to perform maths operations'''"
      ]
    },
    {
      "cell_type": "code",
      "source": [
        "#What is an Array?\n",
        "\"\"\"In Python, they are containers which are able to store more than one item at the same time.\n",
        " Specifically, they are an ordered collection of elements\n",
        "  with every value being of the same data type.\"\"\""
      ],
      "metadata": {
        "id": "U8ZmmAckqt3d"
      },
      "execution_count": null,
      "outputs": []
    },
    {
      "cell_type": "code",
      "source": [
        "#How many types of arrays do we have?\n",
        "#1D--> 0 colums and presence of rpws (axis=0)\n",
        "#2D--> Tabular data where it has both rows and columns\n",
        "#3D--> It is multidimensional data structure where it has axis=0 ,axis=1,and axis=2"
      ],
      "metadata": {
        "id": "4OBKp3nmFJ8Z"
      },
      "execution_count": null,
      "outputs": []
    },
    {
      "cell_type": "code",
      "source": [
        "#What are all different use cases of numpy ?\n",
        "\"\"\"1.Dot product/inner product\n",
        "   2.Matrix multiplication\n",
        "   3.Element wisematrix product\n",
        "   4.Solving the linear systems\n",
        "   5.Inverse\n",
        "   6.Determinent\n",
        "   7.Choose the random numbers\n",
        "   8.statistics"
      ],
      "metadata": {
        "id": "NQxugY0VHnc9"
      },
      "execution_count": null,
      "outputs": []
    },
    {
      "cell_type": "code",
      "source": [
        "#installation of numpy\n",
        "!pip install numpy"
      ],
      "metadata": {
        "colab": {
          "base_uri": "https://localhost:8080/"
        },
        "id": "0cd3aCKXIdrC",
        "outputId": "d50c3599-62ea-4f90-9154-f85f20b91dfd"
      },
      "execution_count": null,
      "outputs": [
        {
          "output_type": "stream",
          "name": "stdout",
          "text": [
            "Requirement already satisfied: numpy in /usr/local/lib/python3.10/dist-packages (1.26.4)\n"
          ]
        }
      ]
    },
    {
      "cell_type": "code",
      "source": [
        "#import numpy\n",
        "import numpy as np"
      ],
      "metadata": {
        "id": "HyeUwXUyIrUK"
      },
      "execution_count": null,
      "outputs": []
    },
    {
      "cell_type": "code",
      "source": [
        "#how can we check the version of numpy\n",
        "np.__version__"
      ],
      "metadata": {
        "colab": {
          "base_uri": "https://localhost:8080/",
          "height": 35
        },
        "id": "czyC37yXJEh9",
        "outputId": "8329d659-728f-43ed-e978-4ab95ad4fdb5"
      },
      "execution_count": null,
      "outputs": [
        {
          "output_type": "execute_result",
          "data": {
            "text/plain": [
              "'1.26.4'"
            ],
            "application/vnd.google.colaboratory.intrinsic+json": {
              "type": "string"
            }
          },
          "metadata": {},
          "execution_count": 4
        }
      ]
    },
    {
      "cell_type": "markdown",
      "source": [
        "#central object is array"
      ],
      "metadata": {
        "id": "yNCipDBnJZ20"
      }
    },
    {
      "cell_type": "code",
      "source": [
        "l1=[1,2,3,4]\n",
        "a=np.array(l1)\n",
        "print(a)\n",
        "print(l1)\n",
        "#Difference b/w the list and array?\n",
        "#list -->[],ordered,muttable,allows duplicates\n",
        "#Arrays--->[],ordered,immutable,allows duplicates"
      ],
      "metadata": {
        "id": "dsAihqg8JfF7"
      },
      "execution_count": null,
      "outputs": []
    },
    {
      "cell_type": "code",
      "source": [
        "a = np.array([1,2,3,4])\n",
        "print(a)\n",
        "#i want to know the shape of the array\n",
        "a.shape #-->(count_rows,count_columns)\n",
        "#iwant to know element data types in the above array?\n",
        "a.dtype\n",
        "#i want to know the dimensionality of the array's?\n",
        "a.ndim\n",
        "#i want to know the total no of elements in array\n",
        "a.size\n",
        "#i want to know the size in bytes\n",
        "print(a.itemsize)"
      ],
      "metadata": {
        "id": "8Yrs9vSUL3m1"
      },
      "execution_count": null,
      "outputs": []
    },
    {
      "cell_type": "markdown",
      "source": [
        "**04-01-2025**"
      ],
      "metadata": {
        "id": "1xxIM8B3EGg8"
      }
    },
    {
      "cell_type": "markdown",
      "source": [
        "**Essential methods in Numpy**"
      ],
      "metadata": {
        "id": "On92TFcGESAq"
      }
    },
    {
      "cell_type": "code",
      "source": [
        "import numpy as np"
      ],
      "metadata": {
        "id": "5--APCYiFZtt"
      },
      "execution_count": null,
      "outputs": []
    },
    {
      "cell_type": "code",
      "source": [
        "b = np.array([1,2,3])\n",
        "#acess the elements by using the index position number\n",
        "print(b[0])\n",
        "print(b[0:3])\n",
        "print(b[::-1])\n",
        "print(b[:])#default indexing position\n",
        "print(b[::])"
      ],
      "metadata": {
        "colab": {
          "base_uri": "https://localhost:8080/"
        },
        "id": "Uw8R8MdGEK45",
        "outputId": "24deb27b-500f-4ea8-a21b-3a1a9e4288a7"
      },
      "execution_count": null,
      "outputs": [
        {
          "output_type": "stream",
          "name": "stdout",
          "text": [
            "1\n",
            "[1 2 3]\n",
            "[3 2 1]\n",
            "[1 2 3]\n",
            "[1 2 3]\n"
          ]
        }
      ]
    },
    {
      "cell_type": "code",
      "source": [
        "# i want to know the sums of elements in the array\n",
        "print(sum(b))"
      ],
      "metadata": {
        "colab": {
          "base_uri": "https://localhost:8080/"
        },
        "id": "KBRdoPX5Kw1G",
        "outputId": "5ef5fad1-6b03-4e13-d645-58e8ccc44944"
      },
      "execution_count": null,
      "outputs": [
        {
          "output_type": "stream",
          "name": "stdout",
          "text": [
            "6\n"
          ]
        }
      ]
    },
    {
      "cell_type": "code",
      "source": [
        "h=np.array([1,2,3,4,5,6,7,8,9])\n",
        "#print the sum array h\n",
        "print(sum(h))\n",
        "print(h.sum())\n",
        "#find the mean  ofthe array in h\n",
        "print(h.mean())\n",
        "#find the min number in array\n",
        "print(h.min())\n",
        "#find the max number in array?\n",
        "print(h.max())\n",
        "\"\"\"a=['cat','dog','cat']\n",
        "import pandas as pd\n",
        "df=pd.Dataframe(a)\n",
        "df.mode()\"\"\""
      ],
      "metadata": {
        "id": "RvyFGmk3LCfC"
      },
      "execution_count": null,
      "outputs": []
    },
    {
      "cell_type": "code",
      "source": [
        "l=[1,2,3,4,5,6,7,8,9]\n",
        "print(sum(l))\n",
        "#print(l.sum())\n",
        "l.append(10)\n",
        "l"
      ],
      "metadata": {
        "colab": {
          "base_uri": "https://localhost:8080/"
        },
        "id": "MbQ80RJUMAiq",
        "outputId": "700d0218-872e-4321-e0db-a257d8b74435"
      },
      "execution_count": null,
      "outputs": [
        {
          "output_type": "stream",
          "name": "stdout",
          "text": [
            "45\n"
          ]
        },
        {
          "output_type": "execute_result",
          "data": {
            "text/plain": [
              "[1, 2, 3, 4, 5, 6, 7, 8, 9, 10]"
            ]
          },
          "metadata": {},
          "execution_count": 15
        }
      ]
    },
    {
      "cell_type": "code",
      "source": [
        "a=np.array([1,2,3,4,5,1,3,4,1])\n",
        "print(dir(a))\n",
        "#Note:- arrays dont have mode and median"
      ],
      "metadata": {
        "id": "TU9d3QhxM4AI"
      },
      "execution_count": null,
      "outputs": []
    },
    {
      "cell_type": "code",
      "source": [
        "n=np.append(h,0)\n",
        "print(n)"
      ],
      "metadata": {
        "colab": {
          "base_uri": "https://localhost:8080/"
        },
        "id": "WQ9qcMlUMM1H",
        "outputId": "b95ab38d-78b8-4488-d8f4-f8db65d4f66a"
      },
      "execution_count": null,
      "outputs": [
        {
          "output_type": "stream",
          "name": "stdout",
          "text": [
            "[1 2 3 4 5 6 7 8 9 0]\n"
          ]
        }
      ]
    },
    {
      "cell_type": "markdown",
      "source": [
        "**Arrays vs List**"
      ],
      "metadata": {
        "id": "ferhqliGNbum"
      }
    },
    {
      "cell_type": "code",
      "source": [
        "#add new item to the list\n",
        "l=[1,2,3,4,5,6,7,8,9]\n",
        "l.append(10)\n",
        "l"
      ],
      "metadata": {
        "id": "I6PIzYHZNenO"
      },
      "execution_count": null,
      "outputs": []
    },
    {
      "cell_type": "code",
      "source": [
        "#Add new item to the array\n",
        "a=np.array([1,2,3])\n",
        "a.append(4)\n",
        "a"
      ],
      "metadata": {
        "id": "7Dn1GmsVNxqP"
      },
      "execution_count": null,
      "outputs": []
    },
    {
      "cell_type": "code",
      "source": [
        "#How can we add items in an array?\n",
        "a=np.array([1,2,3])\n",
        "b=np.append(a,4)\n",
        "print(b)"
      ],
      "metadata": {
        "colab": {
          "base_uri": "https://localhost:8080/"
        },
        "id": "xY20BMHMOKQp",
        "outputId": "98e11166-6715-4ccc-db3e-67d98da4fa1e"
      },
      "execution_count": null,
      "outputs": [
        {
          "output_type": "stream",
          "name": "stdout",
          "text": [
            "[1 2 3 4]\n"
          ]
        }
      ]
    },
    {
      "cell_type": "code",
      "source": [
        "c=b + np.array(5)\n",
        "#single number is adding with each and every element in array is known as \"Broad casting\" method\n",
        "print(c)"
      ],
      "metadata": {
        "colab": {
          "base_uri": "https://localhost:8080/"
        },
        "id": "ZMwOyV6ERVhk",
        "outputId": "3ff2bf89-1ae7-4b88-fa22-d0debfa6850f"
      },
      "execution_count": null,
      "outputs": [
        {
          "output_type": "stream",
          "name": "stdout",
          "text": [
            "[6 7 8 9]\n"
          ]
        }
      ]
    },
    {
      "cell_type": "code",
      "source": [
        "#Vector addition: adding two arrays having equal number of elements and same dimensions is known vector addition\n",
        "a=np.array([1,2,3])\n",
        "b=np.array([4,5,6])\n",
        "print(a+b)\n",
        "print(a*b)"
      ],
      "metadata": {
        "colab": {
          "base_uri": "https://localhost:8080/"
        },
        "id": "PdtUQx3hRqbT",
        "outputId": "7dc54d4f-a794-4728-a3b5-d8dad7140c9f"
      },
      "execution_count": null,
      "outputs": [
        {
          "output_type": "stream",
          "name": "stdout",
          "text": [
            "[5 7 9]\n",
            "[ 4 10 18]\n"
          ]
        }
      ]
    },
    {
      "cell_type": "code",
      "source": [
        "l=[1,2,3]\n",
        "#multiple of 2\n",
        "for i in l:\n",
        "  print(i*2,end=\",\")"
      ],
      "metadata": {
        "colab": {
          "base_uri": "https://localhost:8080/"
        },
        "id": "_5Ns7slPSPWI",
        "outputId": "007e87b6-3530-4bef-dc00-85af25dd6a1c"
      },
      "execution_count": null,
      "outputs": [
        {
          "output_type": "stream",
          "name": "stdout",
          "text": [
            "2,4,6,"
          ]
        }
      ]
    },
    {
      "cell_type": "code",
      "source": [
        "print(a*2)"
      ],
      "metadata": {
        "colab": {
          "base_uri": "https://localhost:8080/"
        },
        "id": "_QcR0pnYSl53",
        "outputId": "56faa75e-3477-4f89-a596-ba67e6392dc5"
      },
      "execution_count": null,
      "outputs": [
        {
          "output_type": "stream",
          "name": "stdout",
          "text": [
            "[2 4 6]\n"
          ]
        }
      ]
    },
    {
      "cell_type": "code",
      "source": [
        "#find the sqrt for array's\n",
        "print(a**0.5)"
      ],
      "metadata": {
        "colab": {
          "base_uri": "https://localhost:8080/"
        },
        "id": "okr-dUImSpB2",
        "outputId": "bf09ef41-8d62-4a81-c91e-f7302de85172"
      },
      "execution_count": null,
      "outputs": [
        {
          "output_type": "stream",
          "name": "stdout",
          "text": [
            "[1.         1.41421356 1.73205081]\n"
          ]
        }
      ]
    },
    {
      "cell_type": "code",
      "source": [
        "a=['apple',1,5.8,4+6j]\n",
        "b=np.array(a)\n",
        "print(b)"
      ],
      "metadata": {
        "colab": {
          "base_uri": "https://localhost:8080/"
        },
        "id": "chSWvt9LSz10",
        "outputId": "83b77802-304e-45d8-c8ea-504ae5a8cdcb"
      },
      "execution_count": null,
      "outputs": [
        {
          "output_type": "stream",
          "name": "stdout",
          "text": [
            "['apple' '1' '5.8' '(4+6j)']\n"
          ]
        }
      ]
    },
    {
      "cell_type": "code",
      "source": [
        "b=[2+4j,5+6j]\n",
        "c=np.array(b)\n",
        "d=np.insert(b,2,5+6j)\n",
        "print(d)\n",
        "print(dir(d))"
      ],
      "metadata": {
        "id": "kn7yLv5OTx_Y"
      },
      "execution_count": null,
      "outputs": []
    },
    {
      "cell_type": "markdown",
      "source": [
        "**Dot  product **"
      ],
      "metadata": {
        "id": "H7G7trqfVGEZ"
      }
    },
    {
      "cell_type": "code",
      "source": [
        "a=np.array([1,2])\n",
        "b=np.array([3,4])\n",
        "#sum of product of corresponding items\n",
        "#when apply dot product check the array are same number of elements\n",
        "dot=0\n",
        "for i in range(len(a)):\n",
        "  dot += a[i]*b[i]\n",
        "  print(dot)"
      ],
      "metadata": {
        "colab": {
          "base_uri": "https://localhost:8080/"
        },
        "id": "bZ1rWLlaU37u",
        "outputId": "a4e1ed01-6e5c-4b6c-e76b-e1979caaa4af"
      },
      "execution_count": null,
      "outputs": [
        {
          "output_type": "stream",
          "name": "stdout",
          "text": [
            "3\n",
            "11\n"
          ]
        }
      ]
    },
    {
      "cell_type": "code",
      "source": [
        "#easy methods\n",
        "dot=np.dot(a,b)\n",
        "dot"
      ],
      "metadata": {
        "id": "4tNYhOQzYQr0"
      },
      "execution_count": null,
      "outputs": []
    },
    {
      "cell_type": "code",
      "source": [
        "dot =a.dot(b)\n",
        "print(dot)\n"
      ],
      "metadata": {
        "id": "7IEOCu6rYh_E"
      },
      "execution_count": null,
      "outputs": []
    },
    {
      "cell_type": "code",
      "source": [
        "dot=a@b\n",
        "print(dot)"
      ],
      "metadata": {
        "colab": {
          "base_uri": "https://localhost:8080/"
        },
        "id": "zXQ-wFsxYsI0",
        "outputId": "b06976a8-06a8-4e37-e40c-4393a025fcef"
      },
      "execution_count": null,
      "outputs": [
        {
          "output_type": "stream",
          "name": "stdout",
          "text": [
            "11\n"
          ]
        }
      ]
    },
    {
      "cell_type": "code",
      "source": [
        "#manul\n",
        "c=a*b\n",
        "d=np.sum(c)\n",
        "print(d)"
      ],
      "metadata": {
        "colab": {
          "base_uri": "https://localhost:8080/"
        },
        "id": "jvROScVjY2Pr",
        "outputId": "98c25ce0-2df0-4bd1-faed-02a2fdf2fe8f"
      },
      "execution_count": null,
      "outputs": [
        {
          "output_type": "stream",
          "name": "stdout",
          "text": [
            "11\n"
          ]
        }
      ]
    },
    {
      "cell_type": "markdown",
      "source": [
        "**06-01-2025**"
      ],
      "metadata": {
        "id": "zi4Mn5hl-yDF"
      }
    },
    {
      "cell_type": "code",
      "source": [
        "import numpy as ny"
      ],
      "metadata": {
        "id": "PTvtIp-4-vJc"
      },
      "execution_count": null,
      "outputs": []
    },
    {
      "cell_type": "code",
      "source": [
        "#create a 1d array from list\n",
        "a = [1,2,3]\n",
        "b = np.array(a)\n",
        "print(b.ndim)"
      ],
      "metadata": {
        "id": "8MNSQ_ys_Syu"
      },
      "execution_count": null,
      "outputs": []
    },
    {
      "cell_type": "markdown",
      "source": [
        "**Multidimensional array's**"
      ],
      "metadata": {
        "id": "dLvSWIbaACZH"
      }
    },
    {
      "cell_type": "code",
      "source": [
        "#create a 2d array\n",
        "a = np.array([[1,2,3],[4,5,6]])\n",
        "print(a.ndim)\n",
        "print(a)"
      ],
      "metadata": {
        "colab": {
          "base_uri": "https://localhost:8080/"
        },
        "id": "EsLODjJqAEeH",
        "outputId": "2ed16859-a6ff-4e92-ca7a-0320949905c1"
      },
      "execution_count": null,
      "outputs": [
        {
          "output_type": "stream",
          "name": "stdout",
          "text": [
            "2\n",
            "[[1 2 3]\n",
            " [4 5 6]]\n"
          ]
        }
      ]
    },
    {
      "cell_type": "code",
      "source": [
        "print(a.itemsize)\n",
        "print(a.shape)"
      ],
      "metadata": {
        "id": "FGa7gXCNApUd"
      },
      "execution_count": null,
      "outputs": []
    },
    {
      "cell_type": "code",
      "source": [
        "#How can i access the elements from array?\n",
        "#by using the index position number we can acces elemnts in array\n",
        "#array[row_index value, column index value]\n",
        "a = np.array([[1,2,3],[4,5,6]])\n",
        "print(a[0])"
      ],
      "metadata": {
        "id": "b8g3B3W3GeBL"
      },
      "execution_count": null,
      "outputs": []
    },
    {
      "cell_type": "code",
      "source": [
        "b = np.array([[1,2,3],[4,5,6],[7,8,9]])\n",
        "print(b)"
      ],
      "metadata": {
        "id": "-ueMHC84Gihs"
      },
      "execution_count": null,
      "outputs": []
    },
    {
      "cell_type": "code",
      "source": [
        "#if i want to access the particular value from particular column and row\n",
        "print(b[1,1])\n",
        "print(b[1][1])\n",
        "#print the \"9\" from above array\n",
        "print(b[2,2])\n",
        "print(b[2][2])"
      ],
      "metadata": {
        "id": "0ipmBfkLGpSS"
      },
      "execution_count": null,
      "outputs": []
    },
    {
      "cell_type": "code",
      "source": [
        "#slicing:- accessing the range of characters\n",
        "b = np.array([[1,2,3],[4,5,6],[7,8,9]])\n",
        "print(b)\n",
        "#i want to print the values present at 1st column\n",
        "print(b[:,0])\n",
        "#print all the column values in row zero\n",
        "print(b[0])\n",
        "# 0r the below one bothe are same\n",
        "print(b[0,:])"
      ],
      "metadata": {
        "id": "v6uC3kQKGqXk"
      },
      "execution_count": null,
      "outputs": []
    },
    {
      "cell_type": "markdown",
      "source": [
        "**Transpose**--> change rows in to columns and columns in to rows"
      ],
      "metadata": {
        "id": "P7ua6mY7GvpV"
      }
    },
    {
      "cell_type": "code",
      "source": [
        "h = np.array([[1,2,3],[4,5,6]])\n",
        "print(h.shape)"
      ],
      "metadata": {
        "id": "HeBPQcV9GunM"
      },
      "execution_count": null,
      "outputs": []
    },
    {
      "cell_type": "code",
      "source": [
        "u = h.T\n",
        "print(u)"
      ],
      "metadata": {
        "id": "bflrx-aXG4Gf"
      },
      "execution_count": null,
      "outputs": []
    },
    {
      "cell_type": "markdown",
      "source": [
        "**MATRIX MULTIPLICATION**"
      ],
      "metadata": {
        "id": "BWKjdqVCG8s_"
      }
    },
    {
      "cell_type": "code",
      "source": [
        "a = np.array([[1,2],[3,4]])\n",
        "b = np.array([[3,4],[5,6]])\n",
        "#Note:- to apply matrix multiplication the arrays has to be in same shape\n",
        "c = a.dot(b)\n",
        "print(c)\n",
        "#print(a*b)   #element wise multiplication"
      ],
      "metadata": {
        "id": "jbiGt2e7HBK7",
        "colab": {
          "base_uri": "https://localhost:8080/",
          "height": 211
        },
        "outputId": "ccb9abe7-74d0-4b23-97db-4ba9b19c021b"
      },
      "execution_count": null,
      "outputs": [
        {
          "output_type": "error",
          "ename": "NameError",
          "evalue": "name 'np' is not defined",
          "traceback": [
            "\u001b[0;31m---------------------------------------------------------------------------\u001b[0m",
            "\u001b[0;31mNameError\u001b[0m                                 Traceback (most recent call last)",
            "\u001b[0;32m<ipython-input-1-b1cb94798b23>\u001b[0m in \u001b[0;36m<cell line: 0>\u001b[0;34m()\u001b[0m\n\u001b[0;32m----> 1\u001b[0;31m \u001b[0ma\u001b[0m \u001b[0;34m=\u001b[0m \u001b[0mnp\u001b[0m\u001b[0;34m.\u001b[0m\u001b[0marray\u001b[0m\u001b[0;34m(\u001b[0m\u001b[0;34m[\u001b[0m\u001b[0;34m[\u001b[0m\u001b[0;36m1\u001b[0m\u001b[0;34m,\u001b[0m\u001b[0;36m2\u001b[0m\u001b[0;34m]\u001b[0m\u001b[0;34m,\u001b[0m\u001b[0;34m[\u001b[0m\u001b[0;36m3\u001b[0m\u001b[0;34m,\u001b[0m\u001b[0;36m4\u001b[0m\u001b[0;34m]\u001b[0m\u001b[0;34m]\u001b[0m\u001b[0;34m)\u001b[0m\u001b[0;34m\u001b[0m\u001b[0;34m\u001b[0m\u001b[0m\n\u001b[0m\u001b[1;32m      2\u001b[0m \u001b[0mb\u001b[0m \u001b[0;34m=\u001b[0m \u001b[0mnp\u001b[0m\u001b[0;34m.\u001b[0m\u001b[0marray\u001b[0m\u001b[0;34m(\u001b[0m\u001b[0;34m[\u001b[0m\u001b[0;34m[\u001b[0m\u001b[0;36m3\u001b[0m\u001b[0;34m,\u001b[0m\u001b[0;36m4\u001b[0m\u001b[0;34m]\u001b[0m\u001b[0;34m,\u001b[0m\u001b[0;34m[\u001b[0m\u001b[0;36m5\u001b[0m\u001b[0;34m,\u001b[0m\u001b[0;36m6\u001b[0m\u001b[0;34m]\u001b[0m\u001b[0;34m]\u001b[0m\u001b[0;34m)\u001b[0m\u001b[0;34m\u001b[0m\u001b[0;34m\u001b[0m\u001b[0m\n\u001b[1;32m      3\u001b[0m \u001b[0;31m#Note:- to apply matrix multiplication the arrays has to be in same shape\u001b[0m\u001b[0;34m\u001b[0m\u001b[0;34m\u001b[0m\u001b[0m\n\u001b[1;32m      4\u001b[0m \u001b[0mc\u001b[0m \u001b[0;34m=\u001b[0m \u001b[0ma\u001b[0m\u001b[0;34m.\u001b[0m\u001b[0mdot\u001b[0m\u001b[0;34m(\u001b[0m\u001b[0mb\u001b[0m\u001b[0;34m)\u001b[0m\u001b[0;34m\u001b[0m\u001b[0;34m\u001b[0m\u001b[0m\n\u001b[1;32m      5\u001b[0m \u001b[0mprint\u001b[0m\u001b[0;34m(\u001b[0m\u001b[0mc\u001b[0m\u001b[0;34m)\u001b[0m\u001b[0;34m\u001b[0m\u001b[0;34m\u001b[0m\u001b[0m\n",
            "\u001b[0;31mNameError\u001b[0m: name 'np' is not defined"
          ]
        }
      ]
    },
    {
      "cell_type": "code",
      "source": [
        "#broadcasting method:-\n",
        "a = np.array([[1,2],[3,4]])\n",
        "b = np.array([[2]])\n",
        "print(a*b)"
      ],
      "metadata": {
        "id": "PZdBS4nHHLyJ"
      },
      "execution_count": null,
      "outputs": []
    },
    {
      "cell_type": "code",
      "source": [
        "d = np.array([[4,5,6],[7,8,9]])\n",
        "h = d.dot(b)      #inner dimesions has to be matched\n",
        "print(h)"
      ],
      "metadata": {
        "id": "pUEzR_4-HVDy"
      },
      "execution_count": null,
      "outputs": []
    },
    {
      "cell_type": "code",
      "source": [
        "A = d.T\n",
        "A"
      ],
      "metadata": {
        "id": "zq7-MthXHWaE"
      },
      "execution_count": null,
      "outputs": []
    },
    {
      "cell_type": "code",
      "source": [
        "H = A.dot(b)\n",
        "print(H)"
      ],
      "metadata": {
        "id": "oTV_Yu4mHdVy"
      },
      "execution_count": null,
      "outputs": []
    },
    {
      "cell_type": "code",
      "source": [
        "#Note:- when we apply the dot product for 2d array it has to be in same shape"
      ],
      "metadata": {
        "id": "nlLOj98IHiKJ"
      },
      "execution_count": null,
      "outputs": []
    },
    {
      "cell_type": "code",
      "source": [
        "a = np.array([[1,2],[3,4]])\n",
        "b = np.array([1,2])\n",
        "c = a.dot(b)\n",
        "print(c)"
      ],
      "metadata": {
        "id": "2_IblmwkHjiK"
      },
      "execution_count": null,
      "outputs": []
    },
    {
      "cell_type": "markdown",
      "source": [
        "**determinent**"
      ],
      "metadata": {
        "id": "0X00ZE6yHn2x"
      }
    },
    {
      "cell_type": "code",
      "source": [
        "a = np.array([[1,2],[3,4]])\n",
        "#find the det of a\n",
        "#use   'np.linalg.det'\n",
        "c = np.linalg.det(a)\n",
        "print(c)\n",
        "#determinent  --->  [(1x4)- (2x3)]"
      ],
      "metadata": {
        "id": "_gMJPM0SHjQc"
      },
      "execution_count": null,
      "outputs": []
    },
    {
      "cell_type": "markdown",
      "source": [
        "**Inverse**"
      ],
      "metadata": {
        "id": "gmn-9MRHH2EZ"
      }
    },
    {
      "cell_type": "code",
      "source": [
        "a = np.array([[1,2],[3,4]])\n",
        "d = np.linalg.inv(a)\n",
        "print(d)"
      ],
      "metadata": {
        "id": "h2SfRqAaHyKV"
      },
      "execution_count": null,
      "outputs": []
    },
    {
      "cell_type": "markdown",
      "source": [
        "**diagonal**"
      ],
      "metadata": {
        "id": "_LBfkm41H-Ro"
      }
    },
    {
      "cell_type": "code",
      "source": [
        "c = np.diag(a)\n",
        "print(c)"
      ],
      "metadata": {
        "id": "RJ6jM--uH8TE"
      },
      "execution_count": null,
      "outputs": []
    },
    {
      "cell_type": "code",
      "source": [
        "#diagonal on a vector returns diagonal matrix\n",
        "d = np.diag([1,4])\n",
        "print(d)"
      ],
      "metadata": {
        "id": "wrfGjhlpIJHp"
      },
      "execution_count": null,
      "outputs": []
    },
    {
      "cell_type": "markdown",
      "source": [
        "**BOoLEAN INDEXING**"
      ],
      "metadata": {
        "id": "eG1KDyVbIL-s"
      }
    },
    {
      "cell_type": "code",
      "source": [
        "a = np.array([[1,2,3,4],[5,6,7,8],[9,10,11,12]])\n",
        "print(a.ndim)\n",
        "print(a.shape)\n",
        "print(a)\n",
        "print(a[:,1])"
      ],
      "metadata": {
        "id": "9saIW313IPWF"
      },
      "execution_count": null,
      "outputs": []
    },
    {
      "cell_type": "code",
      "source": [
        "#print the elements greater than 2 from above array\n",
        "print(a[a>2])"
      ],
      "metadata": {
        "id": "CSO4QKLkMaR6"
      },
      "execution_count": null,
      "outputs": []
    },
    {
      "cell_type": "code",
      "source": [
        "#HOW WE CAN APPLY CONDITION IN ARRAY?\n",
        "#np.where(condition, true, false)\n",
        "b = np.where(a>2, a, -1)\n",
        "print(b)"
      ],
      "metadata": {
        "id": "sTEVGxWtMbiH"
      },
      "execution_count": null,
      "outputs": []
    },
    {
      "cell_type": "code",
      "source": [
        "a = np.array([10,20,30,40,50,60,19,30,31,61])\n",
        "#compute indices where the condition is true  . number has to divisible with 2\n",
        "even  = np.argwhere(a%2==0).flatten()\n",
        "print(even)\n",
        "#you want to see the values\n",
        "a_even = a[even]\n",
        "print(a_even)"
      ],
      "metadata": {
        "id": "BzVKpw_EMkFi"
      },
      "execution_count": null,
      "outputs": []
    },
    {
      "cell_type": "markdown",
      "source": [
        "**07-01-25**"
      ],
      "metadata": {
        "id": "dfMv-HVgh2Jy"
      }
    },
    {
      "cell_type": "code",
      "source": [
        "\"\"\"Revision\n",
        "1. Numpy array differences\n",
        "2. why numpy arrays are faster\n",
        "3. DOT product with 1d array and 2d array\n",
        "4. how to explore an arrays?\n",
        "     a.np.shape\n",
        "     b.np.ndim\n",
        "     c.np.size\n",
        "     d.np.dtypes\n",
        "     c.np.itemsize\n",
        "5.Boolean indexing, broadcasting, transpose,dia,np.linalg.det(), np.linalg.inv()\n",
        "     \"\"\""
      ],
      "metadata": {
        "id": "GJkxsgB-h6Tr"
      },
      "execution_count": null,
      "outputs": []
    },
    {
      "cell_type": "markdown",
      "source": [
        "**Reshaping of an array**"
      ],
      "metadata": {
        "id": "U8FzCz4skuSJ"
      }
    },
    {
      "cell_type": "code",
      "source": [
        "import numpy as np"
      ],
      "metadata": {
        "id": "nC-etLFMkzLI"
      },
      "execution_count": 1,
      "outputs": []
    },
    {
      "cell_type": "code",
      "source": [
        "#create an arrray of range of 1 to 7\n",
        "a=np.arange(1,7)\n",
        "print(a)"
      ],
      "metadata": {
        "colab": {
          "base_uri": "https://localhost:8080/"
        },
        "id": "cEo40GC0k7eq",
        "outputId": "93fe1374-0337-4826-f645-27d3e295d1f1"
      },
      "execution_count": null,
      "outputs": [
        {
          "output_type": "stream",
          "name": "stdout",
          "text": [
            "[1 2 3 4 5 6]\n"
          ]
        }
      ]
    },
    {
      "cell_type": "code",
      "source": [
        "#reshapethe above array in to 2 rowa and 3 columns?\n",
        "b=a.reshape(2,3)\n",
        "print(b)"
      ],
      "metadata": {
        "colab": {
          "base_uri": "https://localhost:8080/"
        },
        "id": "EmrzMHeBlSU6",
        "outputId": "1c866ddc-c028-4572-f1e7-aaed6b60e96f"
      },
      "execution_count": null,
      "outputs": [
        {
          "output_type": "stream",
          "name": "stdout",
          "text": [
            "[[1 2 3]\n",
            " [4 5 6]]\n"
          ]
        }
      ]
    },
    {
      "cell_type": "markdown",
      "source": [
        "**New Axis**"
      ],
      "metadata": {
        "id": "QoBI5aralkRW"
      }
    },
    {
      "cell_type": "code",
      "source": [
        "#new axis:-used to create new axis in the data\n",
        "print(a.shape)\n",
        "d=a[np.newaxis,:]\n",
        "print(d)"
      ],
      "metadata": {
        "colab": {
          "base_uri": "https://localhost:8080/"
        },
        "id": "BpiBf5Elljzu",
        "outputId": "c893b292-6334-4367-d4dd-33c20abd917f"
      },
      "execution_count": null,
      "outputs": [
        {
          "output_type": "stream",
          "name": "stdout",
          "text": [
            "(6,)\n",
            "[[1 2 3 4 5 6]]\n"
          ]
        }
      ]
    },
    {
      "cell_type": "code",
      "source": [
        "d.shape"
      ],
      "metadata": {
        "colab": {
          "base_uri": "https://localhost:8080/"
        },
        "id": "k1zzVHH3mbyO",
        "outputId": "e1501f2b-fd57-48e0-a572-57bee2b2cf63"
      },
      "execution_count": null,
      "outputs": [
        {
          "output_type": "execute_result",
          "data": {
            "text/plain": [
              "(1, 6)"
            ]
          },
          "metadata": {},
          "execution_count": 6
        }
      ]
    },
    {
      "cell_type": "code",
      "source": [
        "e=a[:,np.newaxis]\n",
        "print(e)\n",
        "e.shape"
      ],
      "metadata": {
        "colab": {
          "base_uri": "https://localhost:8080/"
        },
        "id": "agmdk0qbmegd",
        "outputId": "cab738f6-8cea-44bf-f09a-c77d76d2e255"
      },
      "execution_count": null,
      "outputs": [
        {
          "output_type": "stream",
          "name": "stdout",
          "text": [
            "[[1]\n",
            " [2]\n",
            " [3]\n",
            " [4]\n",
            " [5]\n",
            " [6]]\n"
          ]
        },
        {
          "output_type": "execute_result",
          "data": {
            "text/plain": [
              "(6, 1)"
            ]
          },
          "metadata": {},
          "execution_count": 7
        }
      ]
    },
    {
      "cell_type": "code",
      "source": [
        "#why we are using np.newaxis?\n",
        "#needed when the model requires the data to be shaped in a certain manner\n",
        "#Note:- Transpose can be applicable for 2d_array"
      ],
      "metadata": {
        "id": "PovgblVdmwc6"
      },
      "execution_count": null,
      "outputs": []
    },
    {
      "cell_type": "markdown",
      "source": [
        "**Concatenation**"
      ],
      "metadata": {
        "id": "OeFcuckrnZ8H"
      }
    },
    {
      "cell_type": "code",
      "source": [
        "a=np.array([[1,2],[3,4]])\n",
        "b=np.array([[5,6],[7,8]])\n",
        "c=np.array([[9,10],[11,12]])\n",
        "#combine or concatenate the above 2 arrays in 1d_array\n",
        "c=np.concatenate((a,b,c),axis=None)\n",
        "print(c)\n",
        "\"\"\"Note:- 1.When axis=None it returns 1d array\n",
        "          2.When axis=0 it adds second array values in to rows wise\n",
        "          3.When axis=1 it adds the second array values in to columns side by side\"\"\""
      ],
      "metadata": {
        "id": "NcmgPwT8ngn9"
      },
      "execution_count": null,
      "outputs": []
    },
    {
      "cell_type": "code",
      "source": [
        "a=np.array([[1,2],[3,4]])\n",
        "b=np.array([[5,6],[7,8]])\n",
        "c=np.array([[9,10],[11,12]])\n",
        "#combine or concatenate the above 2 arrays in 1d_array\n",
        "c=np.concatenate((a,b,c),axis=0)\n",
        "print(c)\n",
        "print(c[2,:])\n",
        "print(c[:,1])\n"
      ],
      "metadata": {
        "colab": {
          "base_uri": "https://localhost:8080/"
        },
        "id": "W8fgtGPQphr2",
        "outputId": "757432f3-b9d6-43c9-e0a5-8d10c1520506"
      },
      "execution_count": null,
      "outputs": [
        {
          "output_type": "stream",
          "name": "stdout",
          "text": [
            "[[ 1  2]\n",
            " [ 3  4]\n",
            " [ 5  6]\n",
            " [ 7  8]\n",
            " [ 9 10]\n",
            " [11 12]]\n",
            "[5 6]\n",
            "[ 2  4  6  8 10 12]\n"
          ]
        }
      ]
    },
    {
      "cell_type": "markdown",
      "source": [
        "**Hstack**"
      ],
      "metadata": {
        "id": "S-2s2Aarqwsn"
      }
    },
    {
      "cell_type": "code",
      "source": [
        "#Hstack:- stack array in sequence horizontally\n",
        "a=np.array([1,2,3,4])\n",
        "b=np.array([5,6,7,8])\n",
        "#c=np.concatenate((a,b),axis=none)\n",
        "c=np.hstack((a,b))\n",
        "print(c)\n",
        "c.shape"
      ],
      "metadata": {
        "colab": {
          "base_uri": "https://localhost:8080/"
        },
        "id": "kkC8ocyEp7L4",
        "outputId": "206c0ac9-14b1-42b6-a889-bda1190b5d2d"
      },
      "execution_count": null,
      "outputs": [
        {
          "output_type": "stream",
          "name": "stdout",
          "text": [
            "[1 2 3 4 5 6 7 8]\n"
          ]
        },
        {
          "output_type": "execute_result",
          "data": {
            "text/plain": [
              "(8,)"
            ]
          },
          "metadata": {},
          "execution_count": 15
        }
      ]
    },
    {
      "cell_type": "markdown",
      "source": [
        "**Vstack:-** add the sequence of tack arrays vertically"
      ],
      "metadata": {
        "id": "ZMVpYsKAtqaC"
      }
    },
    {
      "cell_type": "code",
      "source": [
        "d=np.vstack((a,b))\n",
        "d"
      ],
      "metadata": {
        "id": "_Sym_uInt2XJ"
      },
      "execution_count": null,
      "outputs": []
    },
    {
      "cell_type": "code",
      "source": [
        "d=np.concatenate((a,b),axis=0)\n",
        "d"
      ],
      "metadata": {
        "id": "xdG_T4fgt8Du"
      },
      "execution_count": null,
      "outputs": []
    },
    {
      "cell_type": "code",
      "source": [
        "a=np.array([[1,2],[3,4]])\n",
        "b=np.array([[5,6],[7,8]])\n",
        "d=np.hstack((a,b))\n",
        "d\n"
      ],
      "metadata": {
        "colab": {
          "base_uri": "https://localhost:8080/"
        },
        "id": "j6Ts0cMYuFkD",
        "outputId": "0093e3ff-ff95-4ea5-d4a9-5c895eb5c5cd"
      },
      "execution_count": null,
      "outputs": [
        {
          "output_type": "execute_result",
          "data": {
            "text/plain": [
              "array([[1, 2, 5, 6],\n",
              "       [3, 4, 7, 8]])"
            ]
          },
          "metadata": {},
          "execution_count": 18
        }
      ]
    },
    {
      "cell_type": "markdown",
      "source": [
        "#copying"
      ],
      "metadata": {
        "id": "ns4swzC5u2_V"
      }
    },
    {
      "cell_type": "code",
      "source": [
        "a=np.array([1,2,3])\n",
        "b=a\n",
        "b[0]=32\n",
        "print(a)"
      ],
      "metadata": {
        "colab": {
          "base_uri": "https://localhost:8080/"
        },
        "id": "8UHdQndnu6JJ",
        "outputId": "f95d9190-cf4a-4d60-c718-aa372cdf02b7"
      },
      "execution_count": null,
      "outputs": [
        {
          "output_type": "stream",
          "name": "stdout",
          "text": [
            "[32  2  3]\n"
          ]
        }
      ]
    },
    {
      "cell_type": "code",
      "source": [
        "a=np.array([1,2,3])\n",
        "b=a.copy()\n",
        "b[0]=6\n",
        "print(a)\n",
        "#By usingcopy() if you make any change to new array the old array does not change"
      ],
      "metadata": {
        "colab": {
          "base_uri": "https://localhost:8080/"
        },
        "id": "TyYqW8q_vLdN",
        "outputId": "d5ce4021-b688-4bb2-c0a5-9e4c20766492"
      },
      "execution_count": null,
      "outputs": [
        {
          "output_type": "stream",
          "name": "stdout",
          "text": [
            "[1 2 3]\n"
          ]
        }
      ]
    },
    {
      "cell_type": "markdown",
      "source": [
        "**Data types**"
      ],
      "metadata": {
        "id": "kWfnjkr7wDTb"
      }
    },
    {
      "cell_type": "code",
      "source": [
        "#How can you find data types inthe array?\n",
        "a=np.array([12,3])\n",
        "a.dtype"
      ],
      "metadata": {
        "id": "Lo5ub-Bbv5s5"
      },
      "execution_count": null,
      "outputs": []
    },
    {
      "cell_type": "code",
      "source": [
        "#store the above array in 32 bits\n",
        "#how can you find data types in the array?\n",
        "a=np.array([1,2,3],dtype=np.int32)\n",
        "a.dtype"
      ],
      "metadata": {
        "colab": {
          "base_uri": "https://localhost:8080/"
        },
        "id": "GjjSr1jLxQVa",
        "outputId": "62c590c8-75a5-409c-d14c-04ea367af0a6"
      },
      "execution_count": null,
      "outputs": [
        {
          "output_type": "execute_result",
          "data": {
            "text/plain": [
              "dtype('int32')"
            ]
          },
          "metadata": {},
          "execution_count": 22
        }
      ]
    },
    {
      "cell_type": "code",
      "source": [
        "#convert the data into float\n",
        "a=np.array([1,2,3],dtype=np.float32)\n",
        "a.dtype\n",
        "a"
      ],
      "metadata": {
        "colab": {
          "base_uri": "https://localhost:8080/"
        },
        "id": "a3fcWi_SxjdD",
        "outputId": "8159a4b3-f082-4645-ba0b-89576bf263e0"
      },
      "execution_count": null,
      "outputs": [
        {
          "output_type": "execute_result",
          "data": {
            "text/plain": [
              "array([1., 2., 3.], dtype=float32)"
            ]
          },
          "metadata": {},
          "execution_count": 23
        }
      ]
    },
    {
      "cell_type": "markdown",
      "source": [
        "#Generating of arrays"
      ],
      "metadata": {
        "id": "Kr2BWISCyHi_"
      }
    },
    {
      "cell_type": "code",
      "source": [
        "#generate an array of zeros which is having 2rows and 3 cols?\n",
        "a=np.zeros((2,3))\n",
        "print(a)"
      ],
      "metadata": {
        "id": "QtWMtQS9x0Kq"
      },
      "execution_count": null,
      "outputs": []
    },
    {
      "cell_type": "code",
      "source": [
        "#generate an array of ones which is having 2 rows amd 3 col\n",
        "b=np.ones((2,3))\n",
        "b"
      ],
      "metadata": {
        "id": "pbf2XGYM05c1",
        "colab": {
          "base_uri": "https://localhost:8080/"
        },
        "outputId": "57214bb7-fc2e-4b4c-9cc2-775652f52abb"
      },
      "execution_count": null,
      "outputs": [
        {
          "output_type": "execute_result",
          "data": {
            "text/plain": [
              "array([[1., 1., 1.],\n",
              "       [1., 1., 1.]])"
            ]
          },
          "metadata": {},
          "execution_count": 24
        }
      ]
    },
    {
      "cell_type": "code",
      "source": [
        "#generating an array of an specific number with specific rows and columns\n",
        "c=np.full((3,3),5)\n",
        "c"
      ],
      "metadata": {
        "colab": {
          "base_uri": "https://localhost:8080/"
        },
        "id": "XLOwMCIn8bys",
        "outputId": "18e015f8-84ed-4e49-8cfa-15fe711ebbb4"
      },
      "execution_count": null,
      "outputs": [
        {
          "output_type": "execute_result",
          "data": {
            "text/plain": [
              "array([[5, 5, 5],\n",
              "       [5, 5, 5],\n",
              "       [5, 5, 5]])"
            ]
          },
          "metadata": {},
          "execution_count": 25
        }
      ]
    },
    {
      "cell_type": "code",
      "source": [
        "#generate an indentity matrix\n",
        "d = np.eye(2)\n",
        "d"
      ],
      "metadata": {
        "colab": {
          "base_uri": "https://localhost:8080/"
        },
        "id": "akfhP75h9X1J",
        "outputId": "e1a3523f-807e-4714-8e04-418b7cb9e251"
      },
      "execution_count": null,
      "outputs": [
        {
          "output_type": "execute_result",
          "data": {
            "text/plain": [
              "array([[1., 0.],\n",
              "       [0., 1.]])"
            ]
          },
          "metadata": {},
          "execution_count": 26
        }
      ]
    },
    {
      "cell_type": "code",
      "source": [
        "#generate an array of numbers up to 10\n",
        "e = np.arange(1,11)\n",
        "print(e)"
      ],
      "metadata": {
        "id": "O-M0KUSn-Cdk"
      },
      "execution_count": null,
      "outputs": []
    },
    {
      "cell_type": "code",
      "source": [
        "#linspace:- splits the data in to equal parts\n",
        "h = np.linspace(0,10,5)\n",
        "#np.lionspace(start,end,split_count)\n",
        "h"
      ],
      "metadata": {
        "colab": {
          "base_uri": "https://localhost:8080/"
        },
        "id": "UCOgldHK-QBe",
        "outputId": "9b555052-0fd2-4286-fea4-9ece0c7ae6d6"
      },
      "execution_count": null,
      "outputs": [
        {
          "output_type": "execute_result",
          "data": {
            "text/plain": [
              "array([ 0. ,  2.5,  5. ,  7.5, 10. ])"
            ]
          },
          "metadata": {},
          "execution_count": 27
        }
      ]
    },
    {
      "cell_type": "markdown",
      "source": [
        "**08-01-2025**"
      ],
      "metadata": {
        "id": "ZzqmQsbfAGbA"
      }
    },
    {
      "cell_type": "code",
      "source": [
        "import numpy as np"
      ],
      "metadata": {
        "id": "HiGUitcE-b56"
      },
      "execution_count": null,
      "outputs": []
    },
    {
      "cell_type": "code",
      "source": [
        "d = np.eye(3)\n",
        "print(d)"
      ],
      "metadata": {
        "colab": {
          "base_uri": "https://localhost:8080/"
        },
        "id": "nvxDNmPJqtWQ",
        "outputId": "ec1068b4-bc65-4230-eb8c-1b45b67c355f"
      },
      "execution_count": null,
      "outputs": [
        {
          "output_type": "stream",
          "name": "stdout",
          "text": [
            "[[1. 0. 0.]\n",
            " [0. 1. 0.]\n",
            " [0. 0. 1.]]\n"
          ]
        }
      ]
    },
    {
      "cell_type": "code",
      "source": [
        "a = np.identity(3)\n",
        "print(a)"
      ],
      "metadata": {
        "id": "Q6VHwPx9B84P",
        "colab": {
          "base_uri": "https://localhost:8080/"
        },
        "outputId": "9bd969a3-954c-481a-e4aa-4488673c75d3"
      },
      "execution_count": 2,
      "outputs": [
        {
          "output_type": "stream",
          "name": "stdout",
          "text": [
            "[[1. 0. 0.]\n",
            " [0. 1. 0.]\n",
            " [0. 0. 1.]]\n"
          ]
        }
      ]
    },
    {
      "cell_type": "code",
      "source": [
        "#numpy.eye(N, M=None, k=0, dtype=<class 'float'>, order='C', *, device=None, like=None)\n",
        "#N---> rows\n",
        "#M --> Count of columns\n",
        "#K --> index from where the '1' can be set in column index\n",
        "#print a matrix with 3*5 idetntity matrix\n",
        "b = np.eye(5,M=5,k=0)\n",
        "print(b)"
      ],
      "metadata": {
        "id": "4M6FZnhECFMk"
      },
      "execution_count": null,
      "outputs": []
    },
    {
      "cell_type": "code",
      "source": [
        "#argwhere, argmin,argmax--> returns the indexes"
      ],
      "metadata": {
        "id": "KL491Al1D34d"
      },
      "execution_count": null,
      "outputs": []
    },
    {
      "cell_type": "markdown",
      "source": [
        "#Random Numbers"
      ],
      "metadata": {
        "id": "gBhkDGeewGhn"
      }
    },
    {
      "cell_type": "code",
      "source": [
        "#Generate a random numbers uniformly distributed from 0 to 1?\n",
        "a = np.random.random((3,2))\n",
        "print(a)"
      ],
      "metadata": {
        "id": "VMg_lkD1Emi7"
      },
      "execution_count": null,
      "outputs": []
    },
    {
      "cell_type": "code",
      "source": [
        "#Generate an array which is normally distributed?\n",
        "#Normal distribution means---> mean, median,mode is same, variance is 1\n",
        "b = np.random.randn(3,2)\n",
        "print(b)"
      ],
      "metadata": {
        "id": "piKmC5tDEtpi"
      },
      "execution_count": null,
      "outputs": []
    },
    {
      "cell_type": "code",
      "source": [
        "print(np.mean(b))\n",
        "print(np.var(b))\n",
        "print(np.std(b))"
      ],
      "metadata": {
        "id": "SfD7V9moFoIM"
      },
      "execution_count": null,
      "outputs": []
    },
    {
      "cell_type": "code",
      "source": [
        "#generate random.randn numbers upto 1000 samples  find the mean,varience and std\n",
        "c = np.random.randn(1000)\n",
        "print(c.mean(),c.var(),c.std())"
      ],
      "metadata": {
        "id": "a2fzZ_GGFwg3",
        "colab": {
          "base_uri": "https://localhost:8080/"
        },
        "outputId": "0e3fd576-80d3-47d0-d27f-40c020229f43"
      },
      "execution_count": 3,
      "outputs": [
        {
          "output_type": "stream",
          "name": "stdout",
          "text": [
            "-0.02112858888575277 0.9375729843467842 0.968283524772979\n"
          ]
        }
      ]
    },
    {
      "cell_type": "code",
      "source": [
        "#generate an random intgers from 10 to 20 in the size of 4*4\n",
        "#random.randint(low, high=None, size=None, dtype=int)\n",
        "d = np.random.randint(10, size = (4,4))\n",
        "print(d)"
      ],
      "metadata": {
        "id": "t4apvj1xF0Py"
      },
      "execution_count": null,
      "outputs": []
    },
    {
      "cell_type": "code",
      "source": [
        "d = np.random.randint(10,20,size=(4,4))\n",
        "print(d)"
      ],
      "metadata": {
        "id": "RUrGRBkRF4YK"
      },
      "execution_count": null,
      "outputs": []
    },
    {
      "cell_type": "code",
      "source": [
        "#generate a number up to 6 and divide in to size of 10\n",
        "e = np.random.choice(7,size=10)\n",
        "print(e)"
      ],
      "metadata": {
        "id": "p5b3GNnPF92z"
      },
      "execution_count": null,
      "outputs": []
    },
    {
      "cell_type": "code",
      "source": [
        "l = np.random.choice([1,2,3,4],size = 10)\n",
        "print(l)"
      ],
      "metadata": {
        "id": "MttnI08RF_3d"
      },
      "execution_count": null,
      "outputs": []
    },
    {
      "cell_type": "markdown",
      "source": [
        "### **solving linear equations**"
      ],
      "metadata": {
        "id": "QDtq-Z_jGJue"
      }
    },
    {
      "cell_type": "code",
      "source": [
        "#2x1 + 3y1 = 0\n",
        "#6x + 12y  = 5\n",
        "a = np.array([[2,3],[6,12]])\n",
        "b = np.array([0,5])\n",
        "#  ax = B <==>  x = a**-1 b\n",
        "x = np.linalg.inv(a).dot(b)\n",
        "print(x)"
      ],
      "metadata": {
        "id": "RRg9FnhLGEDs"
      },
      "execution_count": null,
      "outputs": []
    },
    {
      "cell_type": "markdown",
      "source": [
        "**09-01-2025**"
      ],
      "metadata": {
        "id": "YZz4GJ93YJ_k"
      }
    },
    {
      "cell_type": "markdown",
      "source": [
        "Overall revision"
      ],
      "metadata": {
        "id": "8CRJY5_FYN-n"
      }
    },
    {
      "cell_type": "code",
      "source": [
        "#what is a numpy?\n",
        "#How do you create a 1d array?\n",
        "import numpy as np\n",
        "arr = np.array([1,2,3,4])\n",
        "print(arr.ndim)"
      ],
      "metadata": {
        "id": "_Tf3G5JIYNSU"
      },
      "execution_count": null,
      "outputs": []
    },
    {
      "cell_type": "code",
      "source": [
        "#what is difference between a list and Numpy array?\n",
        "#arrays we cannot add extram items to exisiting array\n",
        "#where as in list we can add new items to exiting list\n",
        "#array's are having fixed memory\n",
        "#arrays are homogenous and list is heterogenous"
      ],
      "metadata": {
        "id": "FI1talaobacZ"
      },
      "execution_count": null,
      "outputs": []
    },
    {
      "cell_type": "code",
      "source": [
        "#How do you check the shape and size of an numpy array?\n",
        "\"\"\" np.size\n",
        "    np.shape\"\"\""
      ],
      "metadata": {
        "id": "nFCDWaTbbejC"
      },
      "execution_count": null,
      "outputs": []
    },
    {
      "cell_type": "code",
      "source": [
        "#How do you reshape an array?\n",
        "a = np.array([1,2,3,4,5,6])\n",
        "#change the above array in to 3 rows and 2 columns\n",
        "b = a.reshape(3,2)\n",
        "print(b)"
      ],
      "metadata": {
        "id": "Xwm21CsybiUC"
      },
      "execution_count": null,
      "outputs": []
    },
    {
      "cell_type": "code",
      "source": [
        "#How do you create an array of all zeros and all ones?\n",
        "a = np.zeros((3,2))\n",
        "print(a)\n",
        "b = np.ones((4,4))\n",
        "print(b)"
      ],
      "metadata": {
        "id": "JpUxVCm_bmQX"
      },
      "execution_count": null,
      "outputs": []
    },
    {
      "cell_type": "code",
      "source": [
        "#what is broad casting in Numpy?\n",
        "#it allows the arthematic operation between arrays of different sizes\n",
        "a = np.array([[1,2,3,4],[5,6,7,8]])\n",
        "b = np.array([2])\n",
        "print(a*b)   # try -->   +,-,%,**"
      ],
      "metadata": {
        "id": "IpzGpMMdbqCD"
      },
      "execution_count": null,
      "outputs": []
    },
    {
      "cell_type": "code",
      "source": [
        "#how can find the mean,median, std?\n",
        "a = np.array([[1,2,3,4],[5,6,7,8]])\n",
        "print(np.mean(a))\n",
        "\n",
        "b = np.array([1,2,3,4,5,6,7,9])\n",
        "print(np.median(b))\n",
        "\n",
        "print('std for array a:',np.std(a))\n",
        "print('std for array b:',np.std(b))"
      ],
      "metadata": {
        "id": "mpBiwcgRbtyc"
      },
      "execution_count": null,
      "outputs": []
    },
    {
      "cell_type": "code",
      "source": [
        "#how can we utilize Numpy to quickly query our numerical data and perform actions based on boolean statement?\n",
        "a = np.array([20,30,16,17,18,22,23,24,25,32])\n",
        "#from the above array check the age group people who is having >= 18 print 'true' else 'flase'\n",
        "b = np.where(a>=18, 'True','False')\n",
        "print(b)"
      ],
      "metadata": {
        "id": "kNhIhTHJbxbv"
      },
      "execution_count": null,
      "outputs": []
    },
    {
      "cell_type": "code",
      "source": [
        "#How can you compute the rolling statistics  using Numpy,  such as rolling mean?\n",
        "from numpy.lib.stride_tricks import sliding_window_view\n",
        "x = np.arange(6)\n",
        "# print(x)\n",
        "v = sliding_window_view(x,3)\n",
        "print(v)"
      ],
      "metadata": {
        "id": "iRZ8ZtJ5b0yF"
      },
      "execution_count": null,
      "outputs": []
    },
    {
      "cell_type": "code",
      "source": [
        "#generate a random number which is uniformaly distributed --> 0 to 1\n",
        "a = np.random.random((3,2))\n",
        "#b = np.random.uniform((3,2))\n",
        "a"
      ],
      "metadata": {
        "id": "xjJyDdw8b4HR"
      },
      "execution_count": null,
      "outputs": []
    },
    {
      "cell_type": "code",
      "source": [
        "b = np.random.randn(3,2)\n",
        "b"
      ],
      "metadata": {
        "id": "gOC5N4lub9Da"
      },
      "execution_count": null,
      "outputs": []
    },
    {
      "cell_type": "code",
      "source": [
        "c = np.random.choice([1,2,3,4],size =10)\n",
        "print(c)"
      ],
      "metadata": {
        "id": "iHz0q7R-cAQa"
      },
      "execution_count": null,
      "outputs": []
    },
    {
      "cell_type": "code",
      "source": [
        "a = np.array([[1,2,3,4,5],[6,7,8,9,10],[11,12,13,14,15]])\n",
        "print(a)\n",
        "#access the '8'\n",
        "print(a[1,2])\n",
        "print(a[0,:])   #print the entire values of 1st column"
      ],
      "metadata": {
        "id": "gnaYNvs4cDqr"
      },
      "execution_count": null,
      "outputs": []
    },
    {
      "cell_type": "code",
      "source": [
        "#what is a dot product?\n",
        "#dimesions must be same and it equal of number of elements\n",
        "a = np.array([[1,2,3,4],[1,2,3,4]])\n",
        "b = np.array([[6,7,8,9],[9,7,6,5]])\n",
        "c = b.T\n",
        "d = np.dot(a,c)\n",
        "print(d)"
      ],
      "metadata": {
        "id": "-2AG-rqacGrB"
      },
      "execution_count": null,
      "outputs": []
    },
    {
      "cell_type": "code",
      "source": [
        "a = np.array([1,2,3,4])\n",
        "b = np.array([1,2,3,4])\n",
        "d = a @ b\n",
        "print(d)"
      ],
      "metadata": {
        "id": "74u473-DcJc7"
      },
      "execution_count": null,
      "outputs": []
    }
  ]
}